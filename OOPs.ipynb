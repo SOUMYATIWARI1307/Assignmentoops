{
  "nbformat": 4,
  "nbformat_minor": 0,
  "metadata": {
    "colab": {
      "provenance": []
    },
    "kernelspec": {
      "name": "python3",
      "display_name": "Python 3"
    },
    "language_info": {
      "name": "python"
    }
  },
  "cells": [
    {
      "cell_type": "markdown",
      "source": [
        "1. What is Object-Oriented Programming (OOP)?\n",
        "\n",
        "Answer -\n",
        "\n",
        "Object-oriented programming (OOP) is a programming paradigm that organizes software design around objects rather than functions and logic. It models real-world entities, combining data (attributes) and the functions that operate on that data (methods) into objects. This approach promotes code reusability, modularity, and easier maintenance, especially in complex projects.\n",
        "\n",
        "Object-oriented programming (OOP) is a programming paradigm based on the concept of objects. Objects can contain data (called fields, attributes or properties) and have actions they can perform (called procedures or methods and implemented in code).\n",
        "\n",
        "The four fundamental principles of Object-Oriented Programming (OOP), often referred to as the \"four pillars,\" are: Abstraction, Encapsulation, Inheritance, and Polymorphism. These principles provide the foundation for writing flexible, modular, and reusable code."
      ],
      "metadata": {
        "id": "1PwBWwTl18ig"
      }
    },
    {
      "cell_type": "markdown",
      "source": [
        "2.  What is a class in OOP?\n",
        "\n",
        "Answer -\n",
        "\n",
        "In object-oriented programming (OOP), a class is a blueprint or template for creating objects. It defines the structure and behavior of objects by specifying the data (attributes or properties) and functions (methods or operations) that objects of that class will have. Essentially, a class acts as a user-defined data type, providing a template for creating multiple objects with similar characteristics.\n",
        "\n",
        "Example:\n",
        "\n",
        "Imagine a class called Fruit. It might have attributes like name, color, and taste, and methods like ripen() and eat(). You can then create multiple Fruit objects, such as an apple, a banana, and an orange, each with its own specific attribute values (e.g., apple.color might be red, while banana.color is yellow) but sharing the same methods defined in the Fruit class.\n",
        "\n"
      ],
      "metadata": {
        "id": "U28JxfGO2lXj"
      }
    },
    {
      "cell_type": "markdown",
      "source": [
        "3.  What is an object in OOP?\n",
        "\n",
        "Answer -\n",
        "\n",
        "In Object-Oriented Programming (OOP), an object is a self-contained entity that combines data (attributes) and the operations (methods) that can be performed on that data. It's an instance of a class, which acts as a blueprint for creating objects. Objects are the fundamental building blocks of OOP, allowing developers to model real-world entities and their interactions.\n",
        "\n",
        "An object is a component of a program that knows how to perform certain actions and how to interact with other elements of the program. Objects are the basic units of object-oriented programming. A simple example of an object would be a person. Logically, you would expect a person to have a name.\n",
        "\n",
        "Example:\n",
        "Consider a Car as a class. It defines the general characteristics of a car, such as its color, model, and number of doors, and the behaviors it can perform, like accelerating, braking, and turning.\n",
        "Now, let's create two specific instances (objects) of the Car class:\n",
        "Object 1: A red Honda Civic with 4 doors.\n",
        "Object 2: A blue Toyota Camry with 4 doors.\n",
        "Both of these are objects of the Car class, but they have different states (colors and models) and can perform the same actions (accelerate, brake, etc.).\n"
      ],
      "metadata": {
        "id": "rKxZNLPr3zZj"
      }
    },
    {
      "cell_type": "markdown",
      "source": [
        "4.  What is the difference between abstraction and encapsulation?\n",
        "\n",
        "Answer -\n",
        "\n",
        "\n",
        "The primary difference between abstraction and encapsulation is that abstraction is a design level process that focuses on hiding the complex details and implementation of the code. In contrast, encapsulation is an implementation level process that focuses on hiding the data and controlling the visibility of the code.\n",
        "\n",
        "\n",
        "Abstraction and encapsulation are two fundamental concepts in object-oriented programming, often confused but distinct in their purpose. Abstraction focuses on hiding unnecessary complexity and showing only the essential features of an object, while encapsulation focuses on bundling the data (attributes) and methods (functions) that operate on that data into a single unit (class) and restricting access to the internal details.\n",
        "\n",
        "\n",
        "Abstraction:\n",
        "\n",
        "What it hides: Implementation details. Abstraction focuses on what an object does, not how it does it.\n",
        "\n",
        "Goal: To simplify the user's view of an object by hiding the internal workings and exposing only the necessary functionalities.\n",
        "\n",
        "How it's achieved: Abstract classes, interfaces, and methods.\n",
        "\n",
        "Example: A car. You know how to drive it (turn the steering wheel, press the gas pedal, etc.) without needing to understand the complex mechanics of the engine or transmission.\n",
        "\n",
        "Focus: What an object does, not how it does it.\n",
        "\n",
        "\n",
        "Encapsulation:\n",
        "\n",
        "What it hides: The internal state and data of an object.\n",
        "\n",
        "Goal: To protect the object's data from unauthorized access and modification by bundling it with methods that control access.\n",
        "\n",
        "How it's achieved: Using access modifiers (private, protected, public) to control visibility of attributes and methods.\n",
        "\n",
        "Example: A car's engine. It's enclosed within the hood, and you can only interact with it through controlled interfaces like the ignition or gas pedal.\n",
        "Focus: How an object works internally.\n",
        "\n",
        "In simpler terms:\n",
        "Abstraction\n",
        "is like a remote control for your TV. You can change channels and volume without knowing how the TV works internally.\n",
        "Encapsulation\n",
        "is like the casing of the remote control. It protects the internal circuitry and buttons from damage.\n",
        "\n"
      ],
      "metadata": {
        "id": "4RRHlCh34f2s"
      }
    },
    {
      "cell_type": "markdown",
      "source": [
        "5. What are dunder methods in Python?\n",
        "\n",
        "Answer -\n",
        "\n",
        "Dunder methods, also known as magic methods, are special methods in Python identified by their names starting and ending with double underscores (e.g., __init__, __str__, __add__). \"Dunder\" is a shorthand for \"double underscore.\"\n",
        "\n",
        "These methods allow you to define how your custom objects interact with built-in Python operations, such as:\n",
        "\n",
        "Initialization and destruction:\n",
        "__init__ for creating objects, __del__ for cleanup.\n",
        "\n",
        "Representation:\n",
        "__str__ for user-friendly string representation, __repr__ for unambiguous representation.\n",
        "\n",
        "Operator Overloading:\n",
        "Defining behavior for operators like + (using __add__), - (using __sub__), == (using __eq__), and more.\n",
        "\n",
        "Container Emulation:\n",
        "Enabling objects to behave like lists, dictionaries, or other containers using methods like __len__, __getitem__, __setitem__, __iter__.\n",
        "\n",
        "Type Conversion:\n",
        "Defining how objects can be converted to other types (e.g., __int__, __float__).\n",
        "\n",
        "By implementing dunder methods in your classes, you empower your custom objects to seamlessly integrate with Python's core functionalities, making them behave more like built-in types and enhancing code readability and expressiveness.\n",
        "\n"
      ],
      "metadata": {
        "id": "t9JE4Lrk5h7Q"
      }
    },
    {
      "cell_type": "markdown",
      "source": [
        "6. Explain the concept of inheritance in OOP?\n",
        "\n",
        "Answer -\n",
        "\n",
        "Inheritance in object-oriented programming (OOP) is a mechanism where a new class (the subclass or child class) is created based on an existing class (the superclass or parent class), inheriting its attributes and methods. This promotes code reusability and allows for creating a hierarchy of classes with shared functionality. Essentially, the subclass gets a \"head start\" by inheriting what the superclass has, and can also add its own unique characteristics.\n",
        "\n",
        "Example -\n",
        "Imagine a Vehicle class as the superclass, with attributes like color and numberOfWheels, and methods like start() and stop(). A Car class can be created as a subclass of Vehicle. The Car class automatically inherits all the attributes and methods of Vehicle. It can also add its own specific attributes like model or methods like accelerate().\n",
        "\n",
        "Benefits of Inheritance:\n",
        "\n",
        "Code Reusability: Avoids rewriting the same code in multiple classes.\n",
        "\n",
        "Modularity: Allows for breaking down complex systems into smaller, reusable components.\n",
        "\n",
        "Maintainability: Changes to the superclass are automatically reflected in the subclasses.\n",
        "\n",
        "Extensibility: New subclasses can be easily created based on existing ones to add new functionalities.\n",
        "\n",
        "In essence, inheritance in OOP is a powerful tool for creating organized, reusable, and maintainable code by establishing relationships between classes and enabling the sharing of functionality.\n",
        "\n"
      ],
      "metadata": {
        "id": "lR4fXeh36hHb"
      }
    },
    {
      "cell_type": "code",
      "source": [
        "class Vehicle:\n",
        "    def __init__(self, color, numberOfWheels):\n",
        "        self.color = color\n",
        "        self.numberOfWheels = numberOfWheels\n",
        "    def start(self):\n",
        "        print(\"Starting the vehicle\")\n",
        "    def stop(self):\n",
        "        print(\"Stopping the vehicle\")\n",
        "\n",
        "class Car(Vehicle):\n",
        "    def __init__(self, color, numberOfWheels, model):\n",
        "        super().__init__(color, numberOfWheels)\n",
        "        self.model = model\n",
        "    def accelerate(self):\n",
        "        print(\"Accelerating the car\")"
      ],
      "metadata": {
        "id": "mfIP6fRo7Gkh"
      },
      "execution_count": null,
      "outputs": []
    },
    {
      "cell_type": "markdown",
      "source": [
        "7. What is polymorphism in OOP?\n",
        "\n",
        "Answer -\n",
        "\n",
        "Polymorphism, in object-oriented programming (OOP), is the ability of an object to take on many forms or behaviors. It allows different classes to be treated as objects of a common superclass, enabling a single interface to handle diverse object types. This is achieved through mechanisms like method overriding and overloading, leading to more flexible, reusable, and maintainable code.\n",
        "\n",
        "Benefits of Polymorphism:\n",
        "\n",
        "Code Flexibility:\n",
        "Easier to modify and extend code without affecting other parts of the program.\n",
        "\n",
        "Code Reusability:\n",
        "Reduces code duplication by allowing different classes to share and reuse methods.\n",
        "\n",
        "Code Maintainability:\n",
        "Makes code easier to understand, debug, and maintain due to its modular and flexible nature.\n",
        "\n",
        "Increased Efficiency:\n",
        "Streamlines development and reduces the time needed to implement new features.\n",
        "\n",
        "In essence, polymorphism enables you to write more adaptable, reusable, and efficient object-oriented code by allowing objects of different classes to be treated as objects of a common type, with their own unique behaviors.\n",
        "\n"
      ],
      "metadata": {
        "id": "vvo2VA_y7eLI"
      }
    },
    {
      "cell_type": "markdown",
      "source": [
        "8. How is encapsulation achieved in Python?\n",
        "\n",
        "Answer -\n",
        "\n",
        "Encapsulation is a fundamental object-oriented principle in Python. It protects your classes from accidental changes or deletions and promotes code reusability and maintainability.\n",
        "\n",
        "Encapsulation in Python, a core principle of Object-Oriented Programming (OOP), is achieved through conventions and mechanisms that control access to the internal state of objects. Unlike some other languages with strict access modifiers like public, private, and protected, Python relies on a combination of naming conventions and property decorators to achieve this.\n",
        "\n",
        "Encapsulation. Encapsulation involves wrapping up the data, like code elements, into a single unit. Think of medicines in a pill or stationery items in your bag.\n"
      ],
      "metadata": {
        "id": "JfQkxQpz8Dtb"
      }
    },
    {
      "cell_type": "markdown",
      "source": [
        "9. What is a constructor in Python?\n",
        "\n",
        "Answer -\n",
        "\n",
        "In Python, a constructor is a special method within a class that is automatically invoked when a new object (instance) of that class is created. Its primary purpose is to initialize the object's attributes and set up its initial state.\n",
        "\n",
        "Key characteristics of a Python constructor:\n",
        "\n",
        "__init__ method:\n",
        "In Python, the constructor is defined using the special method __init__(self, ...). The self parameter refers to the instance of the class being created, and subsequent parameters are used to pass initial values to the object's attributes.\n",
        "\n",
        "Automatic invocation:\n",
        "Unlike regular methods that require explicit calls, the __init__ method is automatically executed when you create an object of the class.\n",
        "\n",
        "Initialization:\n",
        "The main role of the constructor is to initialize the attributes (variables) of the newly created object. This ensures that the object starts in a well-defined and usable state.\n",
        "\n",
        "No return value:\n",
        "The __init__ method does not explicitly return a value. Its purpose is solely for initialization.\n"
      ],
      "metadata": {
        "id": "XcM7fAJt9EVY"
      }
    },
    {
      "cell_type": "code",
      "source": [
        "class Dog:\n",
        "    def __init__(self, name, breed):\n",
        "        self.name = name\n",
        "        self.breed = breed\n",
        "\n",
        "    def bark(self):\n",
        "        print(f\"{self.name} says Woof!\")\n",
        "\n",
        "# Creating objects of the Dog class, which automatically calls the __init__ constructor\n",
        "my_dog = Dog(\"Buddy\", \"Golden Retriever\")\n",
        "another_dog = Dog(\"Lucy\", \"Labrador\")\n",
        "\n",
        "print(f\"{my_dog.name} is a {my_dog.breed}.\")\n",
        "my_dog.bark()"
      ],
      "metadata": {
        "colab": {
          "base_uri": "https://localhost:8080/"
        },
        "id": "f-oaG5qz9k7q",
        "outputId": "3b323e00-d37d-484c-f196-3f9aab5b427b"
      },
      "execution_count": null,
      "outputs": [
        {
          "output_type": "stream",
          "name": "stdout",
          "text": [
            "Buddy is a Golden Retriever.\n",
            "Buddy says Woof!\n"
          ]
        }
      ]
    },
    {
      "cell_type": "markdown",
      "source": [
        "10.  What are class and static methods in Python?\n",
        "\n",
        "Answer -\n",
        "\n",
        "In Python, class methods and static methods are special types of methods within a class that differ from regular instance methods in how they are bound and what arguments they receive implicitly.\n",
        "\n",
        "Class Methods:\n",
        "\n",
        "Definition: A class method is a method that is bound to the class itself, not to an instance of the class. It receives the class as its first argument, conventionally named cls.\n",
        "\n",
        "Decorator: Class methods are defined using the @classmethod decorator.\n",
        "\n",
        "Purpose:\n",
        "Alternative Constructors: They are often used to create alternative ways to instantiate objects of the class, acting as factory methods.\n",
        "\n",
        "Accessing/Modifying Class State: They can access and modify class-level attributes, which are shared among all instances of the class.\n",
        "\n"
      ],
      "metadata": {
        "id": "slVZrIZv9vwp"
      }
    },
    {
      "cell_type": "code",
      "source": [
        "    class MyClass:\n",
        "        class_attribute = \"I am a class attribute\"\n",
        "\n",
        "        def __init__(self, value):\n",
        "            self.instance_attribute = value\n",
        "\n",
        "        @classmethod\n",
        "        def create_from_string(cls, data_string):\n",
        "            # Example: parse a string to create an instance\n",
        "            value = data_string.upper()\n",
        "            return cls(value)\n",
        "\n",
        "        @classmethod\n",
        "        def change_class_attribute(cls, new_value):\n",
        "            cls.class_attribute = new_value"
      ],
      "metadata": {
        "id": "Ok1dMwZf9q12"
      },
      "execution_count": null,
      "outputs": []
    },
    {
      "cell_type": "markdown",
      "source": [
        "Static Methods:\n",
        "\n",
        "Definition: A static method is a method that belongs to the class but does not receive any implicit first argument (neither self for an instance nor cls for the class). It behaves like a regular function but is logically grouped within the class.\n",
        "\n",
        "Decorator: Static methods are defined using the @staticmethod decorator.\n",
        "\n",
        "Purpose:\n",
        "Utility Functions: They are typically used for utility functions that perform some operation related to the class but do not depend on the state of an instance or the class itself.\n",
        "\n",
        "Namespace Organization: They help in organizing related functions within the class's namespace without requiring an instance.\n"
      ],
      "metadata": {
        "id": "CjTtAm86-TUa"
      }
    },
    {
      "cell_type": "code",
      "source": [
        "    class MathOperations:\n",
        "        @staticmethod\n",
        "        def add(x, y):\n",
        "            return x + y\n",
        "\n",
        "        @staticmethod\n",
        "        def subtract(x, y):\n",
        "            return x - y"
      ],
      "metadata": {
        "id": "WajEAHLO-bzq"
      },
      "execution_count": null,
      "outputs": []
    },
    {
      "cell_type": "markdown",
      "source": [
        "11.  What is method overloading in Python?.\n",
        "\n",
        "Answer -\n",
        "\n",
        "Method overloading in Python refers to the ability to define multiple methods within a single class that share the same name but can be called with different arguments. This allows a single method name to perform different actions depending on the number or type of parameters provided.\n",
        "\n",
        "While Python does not support classical method overloading in the same way as some other languages (like Java or C++), where you can define distinct methods with the same name but different argument signatures, it achieves a similar effect through more flexible argument handling mechanisms:\n",
        "\n",
        "Default Arguments: You can define optional parameters with default values, allowing the method to be called with or without those arguments.\n",
        "\n",
        "Variable-Length Arguments (*args and `: kwargs`):** These allow a method to accept an arbitrary number of positional arguments (*args) or keyword arguments (**kwargs).\n",
        "\n",
        "Conditional Logic within a Single Method: You can use if/elif/else statements within a single method to check the number or type of arguments and execute different code paths accordingly.\n",
        "\n",
        "\n",
        "In essence, while Python doesn't allow multiple distinct method definitions with the same name, it provides powerful features to create versatile methods that can handle varying input scenarios, effectively achieving the goals of method overloading.\n",
        "\n"
      ],
      "metadata": {
        "id": "DCz_vkVw-lFy"
      }
    },
    {
      "cell_type": "markdown",
      "source": [
        "12. What is method overriding in OOP?\n",
        "\n",
        "Answer -\n",
        "\n",
        "Method overriding in object-oriented programming is when a subclass provides a specific implementation of a method that is already defined in its superclass. This allows the subclass to customize the behavior of the method without altering the original implementation in the superclass. In essence, it provides a way for a subclass to \"replace\" or \"override\" a method inherited from its parent class.\n",
        "\n"
      ],
      "metadata": {
        "id": "osSJ3vrA_QHA"
      }
    },
    {
      "cell_type": "markdown",
      "source": [
        "13. What is a property decorator in Python?</h2>\n",
        "\n",
        "Answer -\n",
        "\n",
        "* The @property decorator in Python is used to define getter methods in a Pythonic way, allowing you to access methods like attributes without explicitly calling them.\n",
        "\n",
        "* It is part of encapsulation, used to control access to private attributes."
      ],
      "metadata": {
        "id": "k2Eh510_C9uW"
      }
    },
    {
      "cell_type": "markdown",
      "source": [
        "14. Why is polymorphism important in OOP?\n",
        "\n",
        "Answer -\n",
        "\n",
        "* Polymorphism is important in Object-Oriented Programming (OOP) because it allows objects of different classes to be treated uniformly, while still behaving according to their specific class implementation."
      ],
      "metadata": {
        "id": "j4y-_jkIDNhz"
      }
    },
    {
      "cell_type": "markdown",
      "source": [
        "15. What is an abstract class in Python?\n",
        "\n",
        "Answer -\n",
        "\n",
        "* An abstract class in Python is a class that cannot be instantiated directly and is meant to be inherited by other classes. It may contain abstract methods (methods with no implementation) that must be implemented by its subclasses."
      ],
      "metadata": {
        "id": "oxl9dmT9Dn2N"
      }
    },
    {
      "cell_type": "markdown",
      "source": [
        "16. What are the advantages of OOP?\n",
        "\n",
        "Answer -\n",
        "\n",
        "* Promotes code reuse via inheritance.\n",
        "* Improves modularity, organization, and readability.\n",
        "* Encapsulation improves security and prevents accidental changes.\n",
        "* Polymorphism and abstraction enhance flexibility and scalability."
      ],
      "metadata": {
        "id": "oo23q9dOD0f-"
      }
    },
    {
      "cell_type": "markdown",
      "source": [
        "17. What is the difference between a class variable and an instance variable?\n",
        "\n",
        "Answer -\n",
        "\n",
        "* Class variables are shared across all instances of a class.\n",
        "* Instance variables are unique to each object and defined within the constructor using self."
      ],
      "metadata": {
        "id": "8fs5Wf3AEBpI"
      }
    },
    {
      "cell_type": "markdown",
      "source": [
        "18. What is multiple inheritance in Python?\n",
        "\n",
        "Answer -\n",
        "\n",
        "* Multiple Inheritance is a feature in Python where a class can inherit from more than one parent class. This allows the child class to inherit attributes and methods from multiple base classes."
      ],
      "metadata": {
        "id": "yKdvSoUzES4A"
      }
    },
    {
      "cell_type": "markdown",
      "source": [
        "19. Explain the purpose of __str__ and __repr__ methods in Python?\n",
        "\n",
        "Answer -\n",
        "\n",
        "* __str__ is used for a user-friendly string representation of an object, used by print().\n",
        "  \n",
        "* __repr__ is used for an official string representation, mainly for debugging and logging."
      ],
      "metadata": {
        "id": "lHjGzuZqEfbL"
      }
    },
    {
      "cell_type": "markdown",
      "source": [
        "20. What is the significance of the super() function in Python?\n",
        "\n",
        "Answer -\n",
        "\n",
        "* The super() function in Python is used to call methods of a parent/superclass from a child/subclass. It is especially useful in inheritance, where you want to extend or customize behavior from the base class."
      ],
      "metadata": {
        "id": "Rt4f3ejTErdM"
      }
    },
    {
      "cell_type": "markdown",
      "source": [
        "21. What is the significance of the __del__ method in Python?\n",
        "\n",
        "Answer -\n",
        "\n",
        " * The __del__ method in Python is a special (dunder) method called a destructor. It is automatically invoked when an object is about to be destroyed — i.e., when it is no longer referenced or the program ends."
      ],
      "metadata": {
        "id": "RKlL1pVRESfv"
      }
    },
    {
      "cell_type": "markdown",
      "source": [
        "22. What is the difference between @staticmethod and @classmethod in Python?\n",
        "\n",
        "Answer -\n",
        "\n",
        "* @staticmethod does not take any special first parameter and cannot access class or instance data.\n",
        "* @classmethod takes cls as the first parameter and can access or modify class state"
      ],
      "metadata": {
        "id": "0vB58MjoFVcE"
      }
    },
    {
      "cell_type": "markdown",
      "source": [
        "23. How does polymorphism work in Python with inheritance?\n",
        "\n",
        "Answer -\n",
        "\n",
        "* In Python, polymorphism allows child classes to override methods of parent classes.\n",
        "* A single function can operate on objects of different classes as long as they follow a common interface."
      ],
      "metadata": {
        "id": "W1by3DGAFwRS"
      }
    },
    {
      "cell_type": "markdown",
      "source": [
        "24. What is method chaining in Python OOP?\n",
        "\n",
        "Answer -\n",
        "\n",
        "* Method chaining in Python is a programming technique where multiple methods are called sequentially on the same object, using a single line of code.\n",
        "\n",
        "* Each method returns the object itself (usually self) to allow the next method to be called."
      ],
      "metadata": {
        "id": "Xg3KGnzwF6uC"
      }
    },
    {
      "cell_type": "markdown",
      "source": [
        "25. What is the purpose of the __call__ method in Python?\n",
        "\n",
        "Answer -\n",
        "\n",
        "* The __call__ method allows an object to be called like a function.\n",
        "* It is useful for creating callable objects or function-like classes."
      ],
      "metadata": {
        "id": "MnPutMh7GC49"
      }
    },
    {
      "cell_type": "markdown",
      "source": [
        "# <h2 style=\"font-size:28px;\">Practical Questions</h2>"
      ],
      "metadata": {
        "id": "3Y6HBAq9GMUY"
      }
    },
    {
      "cell_type": "markdown",
      "source": [
        "1. Create a parent class Animal with a method speak() that prints a generic message. Create a child class Dog\n",
        "that overrides the speak() method to print \"Bark!\".\n",
        "\n"
      ],
      "metadata": {
        "id": "czvT8RRgGQ2S"
      }
    },
    {
      "cell_type": "code",
      "source": [
        "class Animal():\n",
        "    def speak(self):\n",
        "        print(\"This is an Animal sound\")\n",
        "class Dog(Animal):\n",
        "    def speak(self):\n",
        "        print(\"Bark\")\n"
      ],
      "metadata": {
        "id": "Rl76qKTYGfIS"
      },
      "execution_count": null,
      "outputs": []
    },
    {
      "cell_type": "code",
      "source": [
        "a = Animal()\n",
        "d = Dog()"
      ],
      "metadata": {
        "id": "0-NVJ8PwGgEZ"
      },
      "execution_count": null,
      "outputs": []
    },
    {
      "cell_type": "code",
      "source": [],
      "metadata": {
        "id": "Kd8dfRofHK49"
      },
      "execution_count": null,
      "outputs": []
    },
    {
      "cell_type": "code",
      "execution_count": null,
      "metadata": {
        "id": "f0c77a15-5d28-4b7f-afaa-6a3466ffe1d3",
        "outputId": "d921daa4-e3bd-4440-d9bb-e4a732e0e85e",
        "colab": {
          "base_uri": "https://localhost:8080/"
        }
      },
      "outputs": [
        {
          "output_type": "stream",
          "name": "stdout",
          "text": [
            "This is an Animal sound\n",
            "Bark\n"
          ]
        }
      ],
      "source": [
        "a.speak()\n",
        "d.speak()"
      ]
    },
    {
      "cell_type": "markdown",
      "source": [
        "2. Write a program to create an abstract class Shape with a method area(). Derive classes Circle and Rectangle\n",
        "from it and implement the area() method in both."
      ],
      "metadata": {
        "id": "lZxhHC5PHUnK"
      }
    },
    {
      "cell_type": "code",
      "source": [
        "from abc import ABC , abstractmethod\n",
        "import math\n",
        "class Shape(ABC):\n",
        "    @abstractmethod\n",
        "    def area(self):\n",
        "        pass\n",
        "class Circle(Shape):\n",
        "    def __init__(self, radius):\n",
        "        self.radius = radius\n",
        "    def area(self):\n",
        "        return 3.14*self.radius**2\n",
        "class Rectangle(Shape):\n",
        "    def __init__(self,length,width):\n",
        "        self.length = length\n",
        "        self.width = width\n",
        "    def area(self):\n",
        "        return self.length*self.width"
      ],
      "metadata": {
        "id": "-oXv96hbHZhL"
      },
      "execution_count": null,
      "outputs": []
    },
    {
      "cell_type": "code",
      "source": [
        "c = Circle(7)\n",
        "r = Rectangle(11,12)"
      ],
      "metadata": {
        "id": "gFKGXRw5HaHv"
      },
      "execution_count": null,
      "outputs": []
    },
    {
      "cell_type": "code",
      "source": [
        "print(c.area())\n",
        "print(r.area())"
      ],
      "metadata": {
        "colab": {
          "base_uri": "https://localhost:8080/"
        },
        "id": "KiOHVfp5Hc_C",
        "outputId": "a324624f-5d96-4729-8620-d370b2ae4d66"
      },
      "execution_count": null,
      "outputs": [
        {
          "output_type": "stream",
          "name": "stdout",
          "text": [
            "153.86\n",
            "132\n"
          ]
        }
      ]
    },
    {
      "cell_type": "markdown",
      "source": [
        "3. Implement a multi-level inheritance scenario where a class Vehicle has an attribute type. Derive a class Car\n",
        "and further derive a class ElectricCar that adds a battery attribute."
      ],
      "metadata": {
        "id": "cTeap3jCHo22"
      }
    },
    {
      "cell_type": "code",
      "source": [
        "# Base class\n",
        "class Vehicle:\n",
        "    def __init__(self, vehicle_type):\n",
        "        self.vehicle_type = vehicle_type\n",
        "\n",
        "    def show_type(self):\n",
        "        print(f\"Vehicle Type: {self.vehicle_type}\")\n",
        "\n",
        "# Derived class\n",
        "class Car(Vehicle):\n",
        "    def __init__(self, vehicle_type, brand):\n",
        "        super().__init__(vehicle_type)  # Call Vehicle constructor\n",
        "        self.brand = brand\n",
        "\n",
        "    def show_brand(self):\n",
        "        print(f\"Car Brand: {self.brand}\")\n",
        "\n",
        "# Further derived class\n",
        "class ElectricCar(Car):\n",
        "    def __init__(self, vehicle_type, brand, battery_capacity):\n",
        "        super().__init__(vehicle_type, brand)  # Call Car constructor\n",
        "        self.battery_capacity = battery_capacity\n",
        "\n",
        "    def show_battery(self):\n",
        "        print(f\"Battery Capacity: {self.battery_capacity} kWh\")\n"
      ],
      "metadata": {
        "id": "iR47CmrmHtrM"
      },
      "execution_count": null,
      "outputs": []
    },
    {
      "cell_type": "code",
      "source": [
        "e_car = ElectricCar(\"Four Wheeler\", \"Tesla\", 75)\n",
        "\n",
        "e_car.show_type()      # From Vehicle\n",
        "e_car.show_brand()     # From Car\n",
        "e_car.show_battery()   # From ElectricCar\n"
      ],
      "metadata": {
        "colab": {
          "base_uri": "https://localhost:8080/"
        },
        "id": "Y__Cfkj5Hyo4",
        "outputId": "4e1da8f1-044b-45f1-c0a3-b93b3f90eee9"
      },
      "execution_count": null,
      "outputs": [
        {
          "output_type": "stream",
          "name": "stdout",
          "text": [
            "Vehicle Type: Four Wheeler\n",
            "Car Brand: Tesla\n",
            "Battery Capacity: 75 kWh\n"
          ]
        }
      ]
    },
    {
      "cell_type": "markdown",
      "source": [
        "4. Demonstrate polymorphism by creating a base class Bird with a method fly(). Create two derived classes\n",
        "Sparrow and Penguin that override the fly() method.\n"
      ],
      "metadata": {
        "id": "uwUy9D-KH3Yz"
      }
    },
    {
      "cell_type": "code",
      "source": [
        "# Base class\n",
        "class Bird:\n",
        "    def fly(self):\n",
        "        print(\"Some bird is flying\")\n",
        "\n",
        "# Derived class 1\n",
        "class Sparrow(Bird):\n",
        "    def fly(self):\n",
        "        print(\"Sparrow flies high in the sky\")\n",
        "\n",
        "# Derived class 2\n",
        "class Penguin(Bird):\n",
        "    def fly(self):\n",
        "        print(\"Penguins can't fly but they swim very well\")\n"
      ],
      "metadata": {
        "id": "DXvs3Jl8IS1O"
      },
      "execution_count": null,
      "outputs": []
    },
    {
      "cell_type": "code",
      "source": [
        "# Function to demonstrate polymorphism\n",
        "def bird_fly_test(bird):\n",
        "    bird.fly()  # Calls the appropriate fly() method based on object type\n",
        "\n",
        "\n",
        "b1 = Sparrow()\n",
        "b2 = Penguin()\n",
        "\n",
        "bird_fly_test(b1)  # Output: Sparrow flies high in the sky\n",
        "bird_fly_test(b2)  # Output: Penguins can't fly but they swim very well\n"
      ],
      "metadata": {
        "colab": {
          "base_uri": "https://localhost:8080/"
        },
        "id": "5hgBHBb9IWZg",
        "outputId": "dab3b49d-5794-4329-cbdd-b9b00303978f"
      },
      "execution_count": null,
      "outputs": [
        {
          "output_type": "stream",
          "name": "stdout",
          "text": [
            "Sparrow flies high in the sky\n",
            "Penguins can't fly but they swim very well\n"
          ]
        }
      ]
    },
    {
      "cell_type": "markdown",
      "source": [
        "5. Write a program to demonstrate encapsulation by creating a class BankAccount with private attributes\n",
        "balance and methods to deposit, withdraw, and check balance."
      ],
      "metadata": {
        "id": "vpdhcQLdIcAW"
      }
    },
    {
      "cell_type": "code",
      "source": [
        "class BankAccount():\n",
        "    def __init__(self):\n",
        "        self.__balance = 1000\n",
        "    def deposit(self,Amount):\n",
        "        self.__balance += Amount\n",
        "    def withdraw(self,Amount):\n",
        "        if Amount <= self.__balance:\n",
        "            self.__balance -= Amount\n",
        "        else:\n",
        "            print(\"Insufficient Balance\")\n",
        "    def get_balance(self):\n",
        "        return self.__balance\n",
        "Bank = BankAccount()"
      ],
      "metadata": {
        "id": "GmcSs2XdIij3"
      },
      "execution_count": null,
      "outputs": []
    },
    {
      "cell_type": "code",
      "source": [
        "Bank.deposit(1000)\n",
        "Bank.withdraw(500)\n",
        "Bank.get_balance()"
      ],
      "metadata": {
        "colab": {
          "base_uri": "https://localhost:8080/"
        },
        "id": "np_JeUUQImbD",
        "outputId": "0c3aa39d-dce0-41d7-9d42-d47dedc17d65"
      },
      "execution_count": null,
      "outputs": [
        {
          "output_type": "execute_result",
          "data": {
            "text/plain": [
              "1500"
            ]
          },
          "metadata": {},
          "execution_count": 15
        }
      ]
    },
    {
      "cell_type": "markdown",
      "source": [
        "6. Demonstrate runtime polymorphism using a method play() in a base class Instrument. Derive classes Guitar\n",
        "and Piano that implement their own version of play()."
      ],
      "metadata": {
        "id": "pB3AP69dIrFc"
      }
    },
    {
      "cell_type": "code",
      "source": [
        "class Instrument():\n",
        "    def play(self):\n",
        "        print(\"This is a Musical Instrument\")\n",
        "class Guitar(Instrument):\n",
        "    def play(self):\n",
        "        print(\"This is a Guitar\")\n",
        "class Piano(Instrument):\n",
        "    def play(self):\n",
        "        print(\"This is a Piano\")\n",
        "I = Instrument()\n",
        "G = Guitar()\n",
        "P = Piano()\n",
        "def perform_play(instrument):\n",
        "    instrument.play()\n",
        "\n",
        "perform_play(I)\n",
        "perform_play(G)\n",
        "perform_play(P)\n"
      ],
      "metadata": {
        "colab": {
          "base_uri": "https://localhost:8080/"
        },
        "id": "Fy18245oIvHn",
        "outputId": "1b1dc210-3dc3-4372-ab25-3ecb74ca5dd8"
      },
      "execution_count": null,
      "outputs": [
        {
          "output_type": "stream",
          "name": "stdout",
          "text": [
            "This is a Musical Instrument\n",
            "This is a Guitar\n",
            "This is a Piano\n"
          ]
        }
      ]
    },
    {
      "cell_type": "markdown",
      "source": [
        "7. Create a class MathOperations with a class method add_numbers() to add two numbers and a static\n",
        "method subtract_numbers() to subtract two numbers."
      ],
      "metadata": {
        "id": "uQZyYXYQI0HU"
      }
    },
    {
      "cell_type": "code",
      "source": [
        "class MathOperations:\n",
        "    @classmethod\n",
        "    def add_numbers(cls,a,b):\n",
        "        return a+b\n",
        "    @staticmethod\n",
        "    def subtract_numbers(a,b):\n",
        "        return a-b\n",
        "Addition_Result = MathOperations.add_numbers(5,6)\n",
        "Subtraction_Result = MathOperations.subtract_numbers(6,5)\n",
        "print(\"Addition:\",Addition_Result)\n",
        "print(\"Subtraction:\", Subtraction_Result)"
      ],
      "metadata": {
        "colab": {
          "base_uri": "https://localhost:8080/"
        },
        "id": "BQ4MYkEUI305",
        "outputId": "d722751f-1e14-45ff-c675-eafabfe2a3b0"
      },
      "execution_count": null,
      "outputs": [
        {
          "output_type": "stream",
          "name": "stdout",
          "text": [
            "Addition: 11\n",
            "Subtraction: 1\n"
          ]
        }
      ]
    },
    {
      "cell_type": "markdown",
      "source": [
        "8. Implement a class Person with a class method to count the total number of persons created."
      ],
      "metadata": {
        "id": "Ip2G36U5I8uL"
      }
    },
    {
      "cell_type": "code",
      "source": [
        "class Person:\n",
        "    count = 0  # Class variable to track number of object\n",
        "\n",
        "    def __init__(self, name):\n",
        "        self.name = name\n",
        "        Person.count += 1  # Increment count when new object is created\n",
        "\n",
        "    @classmethod\n",
        "    def total_persons(cls):\n",
        "        return cls.count\n",
        "\n",
        "# Creating Person objects\n",
        "p1 = Person(\"Anand\")\n",
        "p2 = Person(\"Bhavna\")\n",
        "p3 = Person(\"Chetan\")\n",
        "\n",
        "# Calling the class method\n",
        "print(\"Total Persons Created:\", Person.total_persons())  # Output: 3\n"
      ],
      "metadata": {
        "colab": {
          "base_uri": "https://localhost:8080/"
        },
        "id": "_-Hl3jhcJCJ4",
        "outputId": "c6a5ded5-c242-4b1f-a8e0-0b3a16253e69"
      },
      "execution_count": null,
      "outputs": [
        {
          "output_type": "stream",
          "name": "stdout",
          "text": [
            "Total Persons Created: 3\n"
          ]
        }
      ]
    },
    {
      "cell_type": "markdown",
      "source": [
        "9. Write a class Fraction with attributes numerator and denominator. Override the str method to display the\n",
        "fraction as \"numerator/denominator\"."
      ],
      "metadata": {
        "id": "ADb1QdbvLCYk"
      }
    },
    {
      "cell_type": "code",
      "source": [
        "class Fraction:\n",
        "    def __init__(self, numerator, denominator):\n",
        "        self.numerator = numerator\n",
        "        self.denominator = denominator\n",
        "\n",
        "    def __str__(self):\n",
        "        return f\"{self.numerator}/{self.denominator}\"\n",
        "f1 = Fraction(3, 4)\n",
        "print(f1)"
      ],
      "metadata": {
        "colab": {
          "base_uri": "https://localhost:8080/"
        },
        "id": "XZu-4onXLIjr",
        "outputId": "d649adbc-d848-4b06-ef6b-2a263029320b"
      },
      "execution_count": null,
      "outputs": [
        {
          "output_type": "stream",
          "name": "stdout",
          "text": [
            "3/4\n"
          ]
        }
      ]
    },
    {
      "cell_type": "markdown",
      "source": [
        "10. Demonstrate operator overloading by creating a class Vector and overriding the add method to add two\n",
        "vectors."
      ],
      "metadata": {
        "id": "HfKaWCeRLNmx"
      }
    },
    {
      "cell_type": "code",
      "source": [
        "class Vector:\n",
        "    def __init__(self, x, y):\n",
        "        self.x = x\n",
        "        self.y = y\n",
        "\n",
        "    def __add__(self, other):\n",
        "        return Vector(self.x + other.x, self.y + other.y)\n",
        "\n",
        "    def __str__(self):\n",
        "        return f\"({self.x}, {self.y})\"\n",
        "\n",
        "v1 = Vector(2, 3)\n",
        "v2 = Vector(4, 5)\n",
        "v3 = v1 + v2\n",
        "\n",
        "print(\"v1 + v2 =\", v3)\n"
      ],
      "metadata": {
        "colab": {
          "base_uri": "https://localhost:8080/"
        },
        "id": "vRx8oRxMLSck",
        "outputId": "960f3354-f2f3-40b8-cf65-aca74a27358d"
      },
      "execution_count": null,
      "outputs": [
        {
          "output_type": "stream",
          "name": "stdout",
          "text": [
            "v1 + v2 = (6, 8)\n"
          ]
        }
      ]
    },
    {
      "cell_type": "code",
      "source": [
        "class Person:\n",
        "    def __init__(self , name , age):\n",
        "        self.name = name\n",
        "        self.age = age\n",
        "    def greet(self):\n",
        "        print(f\"Hello, Myself {self.name} and my age is {self.age}\")\n",
        "\n",
        "p1 = Person(\"Anand\",22)\n",
        "p1.greet()"
      ],
      "metadata": {
        "id": "YWOhrU9mLa2r"
      },
      "execution_count": null,
      "outputs": []
    },
    {
      "cell_type": "markdown",
      "source": [
        "11. Create a class Person with attributes name and age. Add a method greet() that prints \"Hello, my name is\n",
        "{name} and I am {age} years old.\""
      ],
      "metadata": {
        "id": "ZpOYhW80Lwaw"
      }
    },
    {
      "cell_type": "code",
      "source": [
        "class Person:\n",
        "    def __init__(self , name , age):\n",
        "        self.name = name\n",
        "        self.age = age\n",
        "    def greet(self):\n",
        "        print(f\"Hello, my name is {self.name} and my age is {self.age}\")\n",
        "\n",
        "p1 = Person(\"Soumya\",25)\n",
        "p1.greet()"
      ],
      "metadata": {
        "colab": {
          "base_uri": "https://localhost:8080/"
        },
        "id": "UKLON-LULynq",
        "outputId": "2d077514-0ab2-4a8c-efa3-f6e47139ed71"
      },
      "execution_count": null,
      "outputs": [
        {
          "output_type": "stream",
          "name": "stdout",
          "text": [
            "Hello, my name is Soumya and my age is 25\n"
          ]
        }
      ]
    },
    {
      "cell_type": "markdown",
      "source": [
        "12. Implement a class Student with attributes name and grades. Create a method average_grade() to compute\n",
        "the average of the grades."
      ],
      "metadata": {
        "id": "kWy7Pc1SMeln"
      }
    },
    {
      "cell_type": "code",
      "source": [
        "class Student:\n",
        "    def __init__(self , name , grades):\n",
        "        self.name = name\n",
        "        self.grades = grades\n",
        "    def average_grade(self):\n",
        "        if len(self.grades) == 0:\n",
        "            return 0\n",
        "        return sum(self.grades)/len(self.grades)\n",
        "Avg =  Student(\"Soumya\", [85, 90, 78, 92])\n",
        "print(f\"{Avg.name}'s average grade is:\", Avg.average_grade())"
      ],
      "metadata": {
        "colab": {
          "base_uri": "https://localhost:8080/"
        },
        "id": "UJkdT1VHMfKI",
        "outputId": "7d51d569-38d4-46d6-8317-7ba03c00df74"
      },
      "execution_count": null,
      "outputs": [
        {
          "output_type": "stream",
          "name": "stdout",
          "text": [
            "Soumya's average grade is: 86.25\n"
          ]
        }
      ]
    },
    {
      "cell_type": "markdown",
      "source": [
        "13. Create a class Rectangle with methods set_dimensions() to set the dimensions and area() to calculate the\n",
        "area."
      ],
      "metadata": {
        "id": "VwOMko1JMsp3"
      }
    },
    {
      "cell_type": "code",
      "source": [
        "class Rectangle():\n",
        "    def set_dimensions(self,length,width):\n",
        "        self.length = length\n",
        "        self.width = width\n",
        "    def area(self):\n",
        "        return self.length*self.width\n",
        "R = Rectangle()\n",
        "R.set_dimensions(10, 11)\n",
        "print(\"Area of Rectangle:\", R.area())"
      ],
      "metadata": {
        "colab": {
          "base_uri": "https://localhost:8080/"
        },
        "id": "uyK_lFJ6MtMj",
        "outputId": "dc4267b6-31d7-424e-d42a-4ebd71fb6e52"
      },
      "execution_count": null,
      "outputs": [
        {
          "output_type": "stream",
          "name": "stdout",
          "text": [
            "Area of Rectangle: 110\n"
          ]
        }
      ]
    },
    {
      "cell_type": "markdown",
      "source": [
        "14. Create a class Employee with a method calculate_salary() that computes the salary based on hours worked\n",
        "and hourly rate. Create a derived class Manager that adds a bonus to the salary."
      ],
      "metadata": {
        "id": "CM5HJ17LMzU9"
      }
    },
    {
      "cell_type": "code",
      "source": [
        "class Employee():\n",
        "    def __init__(self,name,hours_worked,hourly_rate):\n",
        "        self.name = name\n",
        "        self.hours_worked = hours_worked\n",
        "        self.hourly_rate = hourly_rate\n",
        "    def calculate_salary(self):\n",
        "        return self.hours_worked * self.hourly_rate\n",
        "class Manager(Employee):\n",
        "    def __init__(self, name, hours_worked, hourly_rate, bonus):\n",
        "        super().__init__(name, hours_worked, hourly_rate)\n",
        "        self.bonus = bonus\n",
        "\n",
        "    def calculate_salary(self):\n",
        "        base_salary = super().calculate_salary()\n",
        "        return base_salary + self.bonus\n",
        "emp = Employee(\"Rahul\", 40, 200)\n",
        "mgr = Manager(\"Anjali\", 45, 300, 5000)\n",
        "print(f\"{emp.name}'s Salary:\", emp.calculate_salary())\n",
        "print(f\"{mgr.name}'s Salary:\", mgr.calculate_salary())"
      ],
      "metadata": {
        "colab": {
          "base_uri": "https://localhost:8080/"
        },
        "id": "5N89dB2nM5iX",
        "outputId": "87e0f550-b4cb-4715-d1f3-b8569db55ebc"
      },
      "execution_count": null,
      "outputs": [
        {
          "output_type": "stream",
          "name": "stdout",
          "text": [
            "Rahul's Salary: 8000\n",
            "Anjali's Salary: 18500\n"
          ]
        }
      ]
    },
    {
      "cell_type": "markdown",
      "source": [
        "15. Create a class Product with attributes name, price, and quantity. Implement a method total_price() that\n",
        "calculates the total price of the product."
      ],
      "metadata": {
        "id": "Sm7aEOwBM_8X"
      }
    },
    {
      "cell_type": "code",
      "source": [
        "class Product():\n",
        "    def __init__(self,name,price,quantity):\n",
        "        self.name = name\n",
        "        self.price = price\n",
        "        self.quantity = quantity\n",
        "    def total_price(self):\n",
        "        return self.price*self.quantity\n",
        "P = Product(\"Laptops\", 50000, 2)\n",
        "print(f\"Total price for {P.name}:\", P.total_price())"
      ],
      "metadata": {
        "colab": {
          "base_uri": "https://localhost:8080/"
        },
        "id": "MOzF9SGYND8R",
        "outputId": "190e8738-3478-492a-ae92-27181a3dea0e"
      },
      "execution_count": null,
      "outputs": [
        {
          "output_type": "stream",
          "name": "stdout",
          "text": [
            "Total price for Laptops: 100000\n"
          ]
        }
      ]
    },
    {
      "cell_type": "markdown",
      "source": [
        "16. Create a class Animal with an abstract method sound(). Create two derived classes Cow and Sheep that\n",
        "implement the sound() method."
      ],
      "metadata": {
        "id": "SEkMMNf7NLyM"
      }
    },
    {
      "cell_type": "code",
      "source": [
        "from abc import ABC , abstractmethod\n",
        "class Animal(ABC):\n",
        "    @abstractmethod\n",
        "    def sound(self):\n",
        "        pass\n",
        "class Cow(Animal):\n",
        "    def sound(self):\n",
        "        print(\"Cow says MOO\")\n",
        "class Sheep(Animal):\n",
        "    def sound(self):\n",
        "        print(\"Sheep says Baa\")\n",
        "c = Cow()\n",
        "s = Sheep()\n",
        "c.sound()\n",
        "s.sound()"
      ],
      "metadata": {
        "colab": {
          "base_uri": "https://localhost:8080/"
        },
        "id": "INe2gpWvNMTA",
        "outputId": "3a69f68a-23f0-41ca-aa54-158cf648ab37"
      },
      "execution_count": null,
      "outputs": [
        {
          "output_type": "stream",
          "name": "stdout",
          "text": [
            "Cow says MOO\n",
            "Sheep says Baa\n"
          ]
        }
      ]
    },
    {
      "cell_type": "markdown",
      "source": [
        "17. Create a class Book with attributes title, author, and year_published. Add a method get_book_info() that\n",
        "returns a formatted string with the book's details."
      ],
      "metadata": {
        "id": "RziLRJFUNTPD"
      }
    },
    {
      "cell_type": "code",
      "source": [
        "class Book():\n",
        "    def __init__(self,title,author,year_published):\n",
        "        self.title = title\n",
        "        self.author = author\n",
        "        self.year_published = year_published\n",
        "    def get_book_info(self):\n",
        "        print(f\"The title of Book is {self.title} and author of book is {self.author} published in {self.year_published}\")\n",
        "B = Book(\"Wings of Fire\", \"A.P.J. Abdul Kalam\", 1999)\n",
        "B.get_book_info()"
      ],
      "metadata": {
        "colab": {
          "base_uri": "https://localhost:8080/"
        },
        "id": "gBJpe5CSNXRU",
        "outputId": "d0e1bded-687d-4e44-a135-5b8c6f87ea56"
      },
      "execution_count": null,
      "outputs": [
        {
          "output_type": "stream",
          "name": "stdout",
          "text": [
            "The title of Book is Wings of Fire and author of book is A.P.J. Abdul Kalam published in 1999\n"
          ]
        }
      ]
    },
    {
      "cell_type": "markdown",
      "source": [
        "18. Create a class House with attributes address and price. Create a derived class Mansion that adds an\n",
        "attribute number_of_rooms."
      ],
      "metadata": {
        "id": "Fi-tTd_1NezH"
      }
    },
    {
      "cell_type": "code",
      "source": [
        "class House:\n",
        "    def __init__(self, address, price):\n",
        "        self.address = address\n",
        "        self.price = price\n",
        "\n",
        "class Mansion(House):\n",
        "    def __init__(self, address, price, number_of_rooms):\n",
        "        super().__init__(address, price)\n",
        "        self.number_of_rooms = number_of_rooms\n",
        "\n",
        "    def show_details(self):\n",
        "        print(f\"Address: {self.address}\")\n",
        "        print(f\"Price: ₹{self.price}\")\n",
        "        print(f\"Number of Rooms: {self.number_of_rooms}\")\n",
        "m1 = Mansion(\"Beverly Hills, LA\", 100000000, 15)\n",
        "m1.show_details()"
      ],
      "metadata": {
        "colab": {
          "base_uri": "https://localhost:8080/"
        },
        "id": "q0555hxcNfaQ",
        "outputId": "f13975c8-e3d9-4ca3-f3fd-90216fd3cc5d"
      },
      "execution_count": null,
      "outputs": [
        {
          "output_type": "stream",
          "name": "stdout",
          "text": [
            "Address: Beverly Hills, LA\n",
            "Price: ₹100000000\n",
            "Number of Rooms: 15\n"
          ]
        }
      ]
    }
  ]
}